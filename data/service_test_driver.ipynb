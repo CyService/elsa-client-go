{
 "cells": [
  {
   "cell_type": "code",
   "execution_count": 137,
   "metadata": {
    "collapsed": false,
    "scrolled": true
   },
   "outputs": [
    {
     "name": "stdout",
     "output_type": "stream",
     "text": [
      "{\n",
      "    \"matched\": [\n",
      "        {\n",
      "            \"inType\": \"Symbol\",\n",
      "            \"in\": \"BRCA1\",\n",
      "            \"matches\": {\n",
      "                \"UniRef90\": \"UniRef90_P38398-6\",\n",
      "                \"EMBL\": [\n",
      "                    \"CH471152\",\n",
      "                    \"CH471152\"\n",
      "                ],\n",
      "                \"UniRef50\": \"UniRef50_P38398-6\",\n",
      "                \"GeneID\": \"672\",\n",
      "                \"UniRef100\": \"UniRef100_A0A024R1V0\",\n",
      "                \"Full_name_from_nomenclature_authority\": \"breast cancer 1\",\n",
      "                \"RefSeq\": \"NP_009229.2\",\n",
      "                \"EMBL-CDS\": [\n",
      "                    \"EAW60925.1\",\n",
      "                    \"EAW60932.1\"\n",
      "                ],\n",
      "                \"UniParc\": \"UPI000013C85E\",\n",
      "                \"GI\": [\n",
      "                    \"119581336\",\n",
      "                    \"119581329\",\n",
      "                    \"237681123\"\n",
      "                ],\n",
      "                \"UniProtKB-AC\": \"A0A024R1V0\",\n",
      "                \"UniGene\": \"Hs.194143\",\n",
      "                \"UniProtKB-ID\": \"A0A024R1V0_HUMAN\",\n",
      "                \"GO\": [\n",
      "                    \"GO:0008270\",\n",
      "                    \"GO:0006281\"\n",
      "                ]\n",
      "            }\n",
      "        },\n",
      "        {\n",
      "            \"inType\": \"Symbol\",\n",
      "            \"in\": \"BRCA2\",\n",
      "            \"matches\": {\n",
      "                \"UniRef90\": \"UniRef90_P51587\",\n",
      "                \"UniRef50\": \"UniRef50_P51587\",\n",
      "                \"UniGene\": \"Hs.34012\",\n",
      "                \"EMBL\": [\n",
      "                    \"X95152\",\n",
      "                    \"X95153\",\n",
      "                    \"X95154\",\n",
      "                    \"X95155\",\n",
      "                    \"X95156\",\n",
      "                    \"X95157\",\n",
      "                    \"X95158\",\n",
      "                    \"X95159\",\n",
      "                    \"X95160\",\n",
      "                    \"X95161\",\n",
      "                    \"X95162\",\n",
      "                    \"X95163\",\n",
      "                    \"X95164\",\n",
      "                    \"X95165\",\n",
      "                    \"X95166\",\n",
      "                    \"X95167\",\n",
      "                    \"X95168\",\n",
      "                    \"X95169\",\n",
      "                    \"X95170\",\n",
      "                    \"X95171\",\n",
      "                    \"X95172\",\n",
      "                    \"X95173\",\n",
      "                    \"X95174\",\n",
      "                    \"X95175\",\n",
      "                    \"X95176\",\n",
      "                    \"X95177\",\n",
      "                    \"U43746\",\n",
      "                    \"AY436640\",\n",
      "                    \"AL137247\",\n",
      "                    \"AL445212\",\n",
      "                    \"AL445212\",\n",
      "                    \"AL137247\",\n",
      "                    \"Z74739\",\n",
      "                    \"Z73359\"\n",
      "                ],\n",
      "                \"Ensembl\": \"ENSG00000139618\",\n",
      "                \"GeneID\": \"675\",\n",
      "                \"UniProtKB-ID\": \"BRCA2_HUMAN\",\n",
      "                \"UniRef100\": \"UniRef100_P51587\",\n",
      "                \"Full_name_from_nomenclature_authority\": \"breast cancer 2\",\n",
      "                \"RefSeq\": \"NP_000050.2\",\n",
      "                \"EMBL-CDS\": [\n",
      "                    \"CAA64484.1\",\n",
      "                    \"CAA64484.1\",\n",
      "                    \"CAA64484.1\",\n",
      "                    \"CAA64484.1\",\n",
      "                    \"CAA64484.1\",\n",
      "                    \"CAA64484.1\",\n",
      "                    \"CAA64484.1\",\n",
      "                    \"CAA64484.1\",\n",
      "                    \"CAA64484.1\",\n",
      "                    \"CAA64484.1\",\n",
      "                    \"CAA64484.1\",\n",
      "                    \"CAA64484.1\",\n",
      "                    \"CAA64484.1\",\n",
      "                    \"CAA64484.1\",\n",
      "                    \"CAA64484.1\",\n",
      "                    \"CAA64484.1\",\n",
      "                    \"CAA64484.1\",\n",
      "                    \"CAA64484.1\",\n",
      "                    \"CAA64484.1\",\n",
      "                    \"CAA64484.1\",\n",
      "                    \"CAA64484.1\",\n",
      "                    \"CAA64484.1\",\n",
      "                    \"CAA64484.1\",\n",
      "                    \"CAA64484.1\",\n",
      "                    \"CAA64484.1\",\n",
      "                    \"CAA64484.1\",\n",
      "                    \"AAB07223.1\",\n",
      "                    \"AAQ97181.1\",\n",
      "                    \"CAI13195.1\",\n",
      "                    \"CAI13195.1\",\n",
      "                    \"CAI40479.1\",\n",
      "                    \"CAI40479.1\",\n",
      "                    \"CAA98995.2\",\n",
      "                    \"CAA97728.1\"\n",
      "                ],\n",
      "                \"Ensembl_TRS\": [\n",
      "                    \"ENST00000380152\",\n",
      "                    \"ENST00000544455\"\n",
      "                ],\n",
      "                \"PDB\": [\n",
      "                    \"1N0W:B\",\n",
      "                    \"3EU7:X\"\n",
      "                ],\n",
      "                \"GI\": [\n",
      "                    \"254839266\",\n",
      "                    \"1161384\",\n",
      "                    \"16116616\",\n",
      "                    \"119395734\",\n",
      "                    \"952011477\",\n",
      "                    \"37675289\",\n",
      "                    \"1177438\",\n",
      "                    \"2315186\",\n",
      "                    \"27065822\",\n",
      "                    \"119628906\",\n",
      "                    \"14424438\"\n",
      "                ],\n",
      "                \"UniProtKB-AC\": \"P51587\",\n",
      "                \"Ensembl_PRO\": [\n",
      "                    \"ENSP00000369497\",\n",
      "                    \"ENSP00000439902\"\n",
      "                ],\n",
      "                \"MIM\": [\n",
      "                    \"114480\",\n",
      "                    \"600185\",\n",
      "                    \"605724\",\n",
      "                    \"612555\",\n",
      "                    \"613029\",\n",
      "                    \"613347\"\n",
      "                ],\n",
      "                \"PIR\": \"G02334\",\n",
      "                \"UniParc\": \"UPI00001D9A9C\",\n",
      "                \"GO\": [\n",
      "                    \"GO:0033593\",\n",
      "                    \"GO:0005813\",\n",
      "                    \"GO:0005737\",\n",
      "                    \"GO:0005654\",\n",
      "                    \"GO:0005634\",\n",
      "                    \"GO:0043234\",\n",
      "                    \"GO:0030141\",\n",
      "                    \"GO:0043015\",\n",
      "                    \"GO:0010484\",\n",
      "                    \"GO:0010485\",\n",
      "                    \"GO:0002020\",\n",
      "                    \"GO:0003697\",\n",
      "                    \"GO:0007420\",\n",
      "                    \"GO:0007569\",\n",
      "                    \"GO:0051298\",\n",
      "                    \"GO:0031052\",\n",
      "                    \"GO:0051276\",\n",
      "                    \"GO:0000910\",\n",
      "                    \"GO:0006978\",\n",
      "                    \"GO:0006281\",\n",
      "                    \"GO:0006302\",\n",
      "                    \"GO:0000724\",\n",
      "                    \"GO:0045003\",\n",
      "                    \"GO:0008585\",\n",
      "                    \"GO:0030097\",\n",
      "                    \"GO:0043966\",\n",
      "                    \"GO:0043967\",\n",
      "                    \"GO:0031619\",\n",
      "                    \"GO:0001833\",\n",
      "                    \"GO:0042771\",\n",
      "                    \"GO:0007141\",\n",
      "                    \"GO:0030879\",\n",
      "                    \"GO:0035264\",\n",
      "                    \"GO:0033600\",\n",
      "                    \"GO:0006289\",\n",
      "                    \"GO:0001556\",\n",
      "                    \"GO:0045931\",\n",
      "                    \"GO:0045893\",\n",
      "                    \"GO:0032465\",\n",
      "                    \"GO:0048478\",\n",
      "                    \"GO:0032355\",\n",
      "                    \"GO:0010332\",\n",
      "                    \"GO:0007584\",\n",
      "                    \"GO:0010225\",\n",
      "                    \"GO:0010165\",\n",
      "                    \"GO:0007283\"\n",
      "                ]\n",
      "            }\n",
      "        }\n",
      "    ],\n",
      "    \"unmatched\": [\n",
      "        \"this is invalid!\"\n",
      "    ]\n",
      "}\n"
     ]
    }
   ],
   "source": [
    "import json, requests\n",
    "\n",
    "# BASE = \"http://localhost:3000/\" # Local machine\n",
    "# BASE = \"http://192.168.99.100:3000/\" # Local Docker instance\n",
    "\n",
    "BASE = \"http://192.168.99.100:8080/idmapping/v1/\" # Agent on Docker\n",
    "\n",
    "\n",
    "def jprint(data):\n",
    "    print(json.dumps(data, indent=4))\n",
    "\n",
    "# Change this to  your Docker container's IP\n",
    "HEADERS = {'Content-Type': 'application/json'}\n",
    "\n",
    "# query1 = {\n",
    "#     \"ids\": [\"P53_HUMAN\", \"TP53\", \"P04637\", \"7157\" ] # These are all Humnam P53.\n",
    "# }\n",
    "\n",
    "query1 = {\n",
    "    \"ids\": [\"BRCA1\", \"BRCA2\", \"this is invalid!\" ]\n",
    "}\n",
    "\n",
    "res1 = requests.post(BASE + 'map', data=json.dumps(query1), headers=HEADERS)\n",
    "res_json = res1.json()\n",
    "\n",
    "jprint(json.loads(res_json))"
   ]
  },
  {
   "cell_type": "markdown",
   "metadata": {},
   "source": [
    "## test with very large input\n",
    "\n",
    "Such file can be created from BioGRID networks...\n",
    "\n",
    "```bash\n",
    "cat BIOGRID-ORGANISM-Homo_sapiens-3.4.129.mitab | awk -F\"\\t\" '{print $1 \"\\n\" $2}' | awk -F\":\" '{print $2}' | uniq > ~/Desktop/human_genes_list_large.txt\n",
    "```\n"
   ]
  },
  {
   "cell_type": "code",
   "execution_count": 142,
   "metadata": {
    "collapsed": true
   },
   "outputs": [],
   "source": [
    "import pandas as pd\n",
    "\n",
    "large_gene_list = pd.read_csv(\"./human_genes_list_large.txt\", names=[\"GeneID\"], dtype={\"GeneID\": str})"
   ]
  },
  {
   "cell_type": "code",
   "execution_count": 143,
   "metadata": {
    "collapsed": false
   },
   "outputs": [
    {
     "data": {
      "text/plain": [
       "524504"
      ]
     },
     "execution_count": 143,
     "metadata": {},
     "output_type": "execute_result"
    }
   ],
   "source": [
    "len(large_gene_list)"
   ]
  },
  {
   "cell_type": "code",
   "execution_count": 144,
   "metadata": {
    "collapsed": true
   },
   "outputs": [],
   "source": [
    "id_list = large_gene_list[\"GeneID\"].tolist()\n",
    "\n",
    "query_heavy = {\n",
    "    \"ids\": id_list, # Huge list!\n",
    "}\n",
    "\n",
    "res_large = requests.post(BASE + 'map', data=json.dumps(query_heavy), headers=HEADERS)"
   ]
  },
  {
   "cell_type": "code",
   "execution_count": 149,
   "metadata": {
    "collapsed": false
   },
   "outputs": [
    {
     "data": {
      "text/plain": [
       "'\"http://localhost:8080/task/b4a019308be2f0438d7a1256f4e2ce58e0601f551bdbd83c85f2f6b1ad7eca99\"'"
      ]
     },
     "execution_count": 149,
     "metadata": {},
     "output_type": "execute_result"
    }
   ],
   "source": [
    "largeJS = res_large.json()\n",
    "\n",
    "f1 = json.dumps(largeJS)\n",
    "\n",
    "f1"
   ]
  },
  {
   "cell_type": "code",
   "execution_count": 118,
   "metadata": {
    "collapsed": false
   },
   "outputs": [],
   "source": [
    "# Randomly pick 100 IDs from original list\n",
    "import random\n",
    "\n",
    "list_size = len(id_list)\n",
    "\n",
    "def call_random(server_location):\n",
    "    random_ids = []\n",
    "\n",
    "    for i in range(0, 500):\n",
    "        next_id = id_list[random.randint(0, list_size-1)]\n",
    "        random_ids.append(next_id)\n",
    "\n",
    "    query_rand = {\n",
    "        \"ids\": random_ids,\n",
    "    }\n",
    "\n",
    "    res_rand = requests.post(server_location + 'map', data=json.dumps(query_rand), headers=HEADERS)"
   ]
  },
  {
   "cell_type": "code",
   "execution_count": 141,
   "metadata": {
    "collapsed": false
   },
   "outputs": [
    {
     "name": "stdout",
     "output_type": "stream",
     "text": [
      "200 loops, best of 3: 21.6 ms per loop\n"
     ]
    }
   ],
   "source": [
    "%%timeit -n 200\n",
    "\n",
    "call_random(\"http://192.168.99.100:3000/\")\n"
   ]
  },
  {
   "cell_type": "code",
   "execution_count": null,
   "metadata": {
    "collapsed": false
   },
   "outputs": [],
   "source": [
    "%%timeit -n 100\n",
    "\n",
    "call_random(\"http://192.168.99.100:8080/idmapping/v1/\")"
   ]
  }
 ],
 "metadata": {
  "kernelspec": {
   "display_name": "Python 3",
   "language": "python",
   "name": "python3"
  },
  "language_info": {
   "codemirror_mode": {
    "name": "ipython",
    "version": 3
   },
   "file_extension": ".py",
   "mimetype": "text/x-python",
   "name": "python",
   "nbconvert_exporter": "python",
   "pygments_lexer": "ipython3",
   "version": "3.4.3"
  }
 },
 "nbformat": 4,
 "nbformat_minor": 0
}
