{
 "cells": [
  {
   "cell_type": "code",
   "execution_count": 3,
   "metadata": {
    "collapsed": false,
    "scrolled": false
   },
   "outputs": [
    {
     "name": "stdout",
     "output_type": "stream",
     "text": [
      "{\n",
      "    \"unmatched\": [],\n",
      "    \"matched\": [\n",
      "        {\n",
      "            \"in\": \"Antp\",\n",
      "            \"matches\": {\n",
      "                \"UniRef100\": \"UniRef100_Q7KSY7\",\n",
      "                \"UniParc\": \"UPI000034DF86\",\n",
      "                \"RefSeq\": [\n",
      "                    \"NP_996166.1\",\n",
      "                    \"NP_996173.1\"\n",
      "                ],\n",
      "                \"UniProtKB-ID\": \"Q7KSY7_DROME\",\n",
      "                \"Synonyms\": \"3.4|ANT-C|ANT-P|ANTC|ANTP|Ant|AntP|AntP1|Antp P1|Antp P2|Antp1|Aus|BG:DS07700.1|CG1028|DMANTPE1|DRO15DC96Z|DmAntp|Dmel\\\\CG1028|Hu|Ns|Scx|antp|l(3)84Ba\",\n",
      "                \"UniRef90\": \"UniRef90_P02833-2\",\n",
      "                \"description\": \"Antennapedia\",\n",
      "                \"UniGene\": \"Dm.3803\",\n",
      "                \"GI\": [\n",
      "                    \"45446385\",\n",
      "                    \"45553293\",\n",
      "                    \"45446386\",\n",
      "                    \"45553279\",\n",
      "                    \"159164638\"\n",
      "                ],\n",
      "                \"EMBL-CDS\": [\n",
      "                    \"AAS65105.1\",\n",
      "                    \"AAS65106.1\"\n",
      "                ],\n",
      "                \"PDB\": \"2HOA:A\",\n",
      "                \"chromosome\": \"3R\",\n",
      "                \"EMBL\": [\n",
      "                    \"AE014297\",\n",
      "                    \"AE014297\"\n",
      "                ],\n",
      "                \"UniProtKB-AC\": \"Q7KSY7\",\n",
      "                \"GeneID\": \"40835\",\n",
      "                \"GO\": [\n",
      "                    \"GO:0005634\",\n",
      "                    \"GO:0043565\",\n",
      "                    \"GO:0003700\",\n",
      "                    \"GO:0007275\"\n",
      "                ],\n",
      "                \"dbXrefs\": \"FLYBASE:FBgn0260642\",\n",
      "                \"Full_name_from_nomenclature_authority\": \"Antennapedia\",\n",
      "                \"LocusTag\": \"Dmel_CG1028\",\n",
      "                \"UniRef50\": \"UniRef50_P02833\",\n",
      "                \"map_location\": \"84A6-84B2|3-47.5 cM\"\n",
      "            },\n",
      "            \"species\": \"fly\",\n",
      "            \"inType\": \"Symbol\"\n",
      "        },\n",
      "        {\n",
      "            \"in\": \"HOXA7\",\n",
      "            \"matches\": {\n",
      "                \"UniRef100\": \"UniRef100_P31268\",\n",
      "                \"dbXrefs\": \"MIM:142950|HGNC:HGNC:5108|Ensembl:ENSG00000122592|HPRD:00838|Vega:OTTHUMG00000023217\",\n",
      "                \"RefSeq\": \"NP_008827.2\",\n",
      "                \"PIR\": \"S15536\",\n",
      "                \"UniProtKB-ID\": \"HXA7_HUMAN\",\n",
      "                \"Synonyms\": \"ANTP|HOX1|HOX1.1|HOX1A\",\n",
      "                \"Ensembl_PRO\": \"ENSP00000242159\",\n",
      "                \"description\": \"homeobox A7\",\n",
      "                \"GI\": [\n",
      "                    \"2739071\",\n",
      "                    \"24497556\",\n",
      "                    \"51094977\",\n",
      "                    \"6918885\",\n",
      "                    \"6513841\",\n",
      "                    \"4099967\",\n",
      "                    \"3097078\",\n",
      "                    \"311033439\",\n",
      "                    \"3915721\",\n",
      "                    \"119614283\"\n",
      "                ],\n",
      "                \"UniGene\": [\n",
      "                    \"Hs.610216\",\n",
      "                    \"Hs.660918\"\n",
      "                ],\n",
      "                \"chromosome\": \"7\",\n",
      "                \"Ensembl_TRS\": \"ENST00000242159\",\n",
      "                \"GO\": [\n",
      "                    \"GO:0005634\",\n",
      "                    \"GO:0000978\",\n",
      "                    \"GO:0043565\",\n",
      "                    \"GO:0008134\",\n",
      "                    \"GO:0001077\",\n",
      "                    \"GO:0001525\",\n",
      "                    \"GO:0009952\",\n",
      "                    \"GO:0048704\",\n",
      "                    \"GO:0001953\",\n",
      "                    \"GO:0045617\",\n",
      "                    \"GO:0002686\",\n",
      "                    \"GO:0045656\",\n",
      "                    \"GO:0000122\",\n",
      "                    \"GO:0045892\",\n",
      "                    \"GO:0045944\",\n",
      "                    \"GO:0048863\",\n",
      "                    \"GO:0006366\"\n",
      "                ],\n",
      "                \"EMBL-CDS\": [\n",
      "                    \"AAB94604.1\",\n",
      "                    \"CAA06713.1\",\n",
      "                    \"AAD01939.2\",\n",
      "                    \"CAA59270.1\",\n",
      "                    \"CAA59270.1\",\n",
      "                    \"EAL24221.1\",\n",
      "                    \"EAW93877.1\",\n",
      "                    \"AAD00727.1\"\n",
      "                ],\n",
      "                \"UniRef50\": \"UniRef50_P31268\",\n",
      "                \"map_location\": \"7p15.2\",\n",
      "                \"Ensembl\": \"ENSG00000122592\",\n",
      "                \"EMBL\": [\n",
      "                    \"AF026397\",\n",
      "                    \"AJ005814\",\n",
      "                    \"AF032095\",\n",
      "                    \"X84803\",\n",
      "                    \"X84804\",\n",
      "                    \"CH236948\",\n",
      "                    \"AC004080\",\n",
      "                    \"CH471073\",\n",
      "                    \"U92543\"\n",
      "                ],\n",
      "                \"UniRef90\": \"UniRef90_P31268\",\n",
      "                \"UniParc\": \"UPI000013CAF3\",\n",
      "                \"UniProtKB-AC\": \"P31268\",\n",
      "                \"GeneID\": \"3204\",\n",
      "                \"Full_name_from_nomenclature_authority\": \"homeobox A7\",\n",
      "                \"MIM\": \"142950\"\n",
      "            },\n",
      "            \"species\": \"human\",\n",
      "            \"inType\": \"Symbol\"\n",
      "        },\n",
      "        {\n",
      "            \"in\": \"Hoxa7\",\n",
      "            \"matches\": {\n",
      "                \"UniRef100\": \"UniRef100_P02830\",\n",
      "                \"dbXrefs\": \"MGI:MGI:96179\",\n",
      "                \"RefSeq\": [\n",
      "                    \"XP_006505675.1\",\n",
      "                    \"XP_006505676.1\"\n",
      "                ],\n",
      "                \"UniProtKB-ID\": \"Q8JZW2_MOUSE\",\n",
      "                \"Synonyms\": \"AV118143|Hox-1.1|M6\",\n",
      "                \"UniRef90\": \"UniRef90_P31268\",\n",
      "                \"description\": \"homeobox A7\",\n",
      "                \"UniParc\": \"UPI00000E5BD1\",\n",
      "                \"GI\": [\n",
      "                    \"148666244\",\n",
      "                    \"81878278\",\n",
      "                    \"568940813\",\n",
      "                    \"22477523\",\n",
      "                    \"568940815\"\n",
      "                ],\n",
      "                \"EMBL-CDS\": [\n",
      "                    \"AAH36986.1\",\n",
      "                    \"EDK98660.1\"\n",
      "                ],\n",
      "                \"UniGene\": \"Mm.294826\",\n",
      "                \"chromosome\": \"6\",\n",
      "                \"UniProtKB-AC\": \"Q8JZW2\",\n",
      "                \"GeneID\": \"15404\",\n",
      "                \"GO\": [\n",
      "                    \"GO:0005634\",\n",
      "                    \"GO:0003677\",\n",
      "                    \"GO:0000978\",\n",
      "                    \"GO:0043565\",\n",
      "                    \"GO:0003700\",\n",
      "                    \"GO:0008134\",\n",
      "                    \"GO:0001077\",\n",
      "                    \"GO:0009952\",\n",
      "                    \"GO:0048704\",\n",
      "                    \"GO:0001953\",\n",
      "                    \"GO:0045617\",\n",
      "                    \"GO:0002686\",\n",
      "                    \"GO:0045656\",\n",
      "                    \"GO:0000122\",\n",
      "                    \"GO:0045892\",\n",
      "                    \"GO:0045944\",\n",
      "                    \"GO:0048863\",\n",
      "                    \"GO:0006366\"\n",
      "                ],\n",
      "                \"Full_name_from_nomenclature_authority\": \"homeobox A7\",\n",
      "                \"EMBL\": [\n",
      "                    \"BC036986\",\n",
      "                    \"CH466597\"\n",
      "                ],\n",
      "                \"UniRef50\": \"UniRef50_P31268\",\n",
      "                \"map_location\": \"6 B3|6 25.4 cM\"\n",
      "            },\n",
      "            \"species\": \"mouse\",\n",
      "            \"inType\": \"Symbol\"\n",
      "        }\n",
      "    ]\n",
      "}\n"
     ]
    }
   ],
   "source": [
    "import json, requests\n",
    "import pandas as pd\n",
    "\n",
    "# BASE = \"http://localhost:3000/\" # Local machine\n",
    "BASE = \"http://192.168.99.100:3000/\" # Local Docker instance\n",
    "# BASE = \"http://192.168.99.100:8080/idmapping/v1/\" # Agent on Docker\n",
    "\n",
    "def jprint(data):\n",
    "    print(json.dumps(data, indent=4))\n",
    "\n",
    "# Change this to  your Docker container's IP\n",
    "HEADERS = {'Content-Type': 'application/json'}\n",
    "\n",
    "# query1 = {\n",
    "#     \"ids\": [\"P53_HUMAN\", \"TP53\", \"P04637\", \"7157\" ] # These are all Humnam P53.\n",
    "# }\n",
    "\n",
    "\n",
    "# Mixed species query allowed - human, mouse, yeast, and fly\n",
    "query1 = {\n",
    "    \"ids\": [\"Antp\", \"HOXA7\"] \n",
    "}\n",
    "\n",
    "res1 = requests.post(BASE + 'map', data=json.dumps(query1), headers=HEADERS)\n",
    "res_json = res1.json()\n",
    "jprint(res_json)\n",
    "# jprint(json.loads(res_json))"
   ]
  },
  {
   "cell_type": "code",
   "execution_count": null,
   "metadata": {
    "collapsed": false,
    "scrolled": false
   },
   "outputs": [],
   "source": [
    "import json, requests\n",
    "\n",
    "# Change this to  your Docker container's IP\n",
    "HEADERS = {'Content-Type': 'application/json'}\n",
    "\n",
    "# Utility function to display JSON\n",
    "def jprint(data):\n",
    "    print(json.dumps(data, indent=4))\n",
    "\n",
    "# Mixed species query allowed - human, mouse, yeast, and fly\n",
    "query1 = {\n",
    "    \"ids\": [\"Antp\", \"HOXA7\"] \n",
    "}\n",
    "\n",
    "res1 = requests.post(BASE + 'map', data=json.dumps(query1), headers=HEADERS)\n",
    "jprint(res1.json())"
   ]
  },
  {
   "cell_type": "code",
   "execution_count": null,
   "metadata": {
    "collapsed": false
   },
   "outputs": [],
   "source": [
    "yeast_genes = pd.read_csv(\"./yeast_genes.txt\", names=[\"GeneID\"], dtype={\"GeneID\": str})\n",
    "print(len(yeast_genes))\n",
    "\n",
    "id_list = yeast_genes[\"GeneID\"].tolist()\n",
    "\n",
    "query_heavy = {\n",
    "    \"ids\": id_list, # List of yeast genes\n",
    "}"
   ]
  },
  {
   "cell_type": "code",
   "execution_count": null,
   "metadata": {
    "collapsed": false
   },
   "outputs": [],
   "source": [
    "res_large = requests.post(BASE + 'map', data=json.dumps(query_heavy), headers=HEADERS)\n",
    "\n",
    "jprint(res_large.json())"
   ]
  },
  {
   "cell_type": "markdown",
   "metadata": {},
   "source": [
    "## test with very large input\n",
    "\n",
    "Such file can be created from BioGRID networks...\n",
    "\n",
    "```bash\n",
    "cat BIOGRID-ORGANISM-Homo_sapiens-3.4.129.mitab | awk -F\"\\t\" '{print $1 \"\\n\" $2}' | awk -F\":\" '{print $2}' | uniq > ~/Desktop/human_genes_list_large.txt\n",
    "```\n"
   ]
  },
  {
   "cell_type": "code",
   "execution_count": null,
   "metadata": {
    "collapsed": true
   },
   "outputs": [],
   "source": [
    "import pandas as pd\n",
    "\n",
    "large_gene_list = pd.read_csv(\"./human_genes_list_large.txt\", names=[\"GeneID\"], dtype={\"GeneID\": str})"
   ]
  },
  {
   "cell_type": "code",
   "execution_count": null,
   "metadata": {
    "collapsed": false
   },
   "outputs": [],
   "source": [
    "len(large_gene_list)"
   ]
  },
  {
   "cell_type": "code",
   "execution_count": null,
   "metadata": {
    "collapsed": true
   },
   "outputs": [],
   "source": [
    "id_list = large_gene_list[\"GeneID\"].tolist()\n",
    "\n",
    "query_heavy = {\n",
    "    \"ids\": id_list, # Huge list!\n",
    "}\n",
    "\n",
    "res_large = requests.post(BASE + 'map', data=json.dumps(query_heavy), headers=HEADERS)"
   ]
  },
  {
   "cell_type": "code",
   "execution_count": null,
   "metadata": {
    "collapsed": false
   },
   "outputs": [],
   "source": [
    "largeJS = res_large.json()\n",
    "\n",
    "print(len(largeJS))"
   ]
  },
  {
   "cell_type": "code",
   "execution_count": null,
   "metadata": {
    "collapsed": false
   },
   "outputs": [],
   "source": [
    "# Randomly pick 100 IDs from original list\n",
    "import random\n",
    "\n",
    "list_size = len(id_list)\n",
    "\n",
    "def call_random(server_location):\n",
    "    random_ids = []\n",
    "\n",
    "    for i in range(0, 500):\n",
    "        next_id = id_list[random.randint(0, list_size-1)]\n",
    "        random_ids.append(next_id)\n",
    "\n",
    "    query_rand = {\n",
    "        \"ids\": random_ids,\n",
    "    }\n",
    "\n",
    "    res_rand = requests.post(server_location + 'map', data=json.dumps(query_rand), headers=HEADERS)"
   ]
  },
  {
   "cell_type": "code",
   "execution_count": null,
   "metadata": {
    "collapsed": false
   },
   "outputs": [],
   "source": [
    "%%timeit -n 100\n",
    "\n",
    "call_random(\"http://localhost:3000/\")\n"
   ]
  },
  {
   "cell_type": "code",
   "execution_count": null,
   "metadata": {
    "collapsed": false
   },
   "outputs": [],
   "source": [
    "%%timeit -n 100\n",
    "\n",
    "call_random(\"http://192.168.99.100:8080/idmapping/v1/\")"
   ]
  }
 ],
 "metadata": {
  "kernelspec": {
   "display_name": "Python 3",
   "language": "python",
   "name": "python3"
  },
  "language_info": {
   "codemirror_mode": {
    "name": "ipython",
    "version": 3
   },
   "file_extension": ".py",
   "mimetype": "text/x-python",
   "name": "python",
   "nbconvert_exporter": "python",
   "pygments_lexer": "ipython3",
   "version": "3.4.3"
  }
 },
 "nbformat": 4,
 "nbformat_minor": 0
}
