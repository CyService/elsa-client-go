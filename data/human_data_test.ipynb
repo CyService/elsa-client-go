{
 "cells": [
  {
   "cell_type": "code",
   "execution_count": null,
   "metadata": {},
   "outputs": [],
   "source": [
    "# Source data set builder for in-memory data table used in ID Mapper.\n",
    "\n",
    "import pandas as pd\n",
    "import json\n",
    "\n",
    "# Location of original data sets\n",
    "\n",
    "# From NCBI Gene\n",
    "NCBI_HUMAN = \"ftp://ftp.ncbi.nih.gov/gene/DATA/GENE_INFO/Mammalia/Homo_sapiens.gene_info.gz\"\n",
    "NCBI_YEAST = \"ftp://ftp.ncbi.nih.gov/gene/DATA/GENE_INFO/Fungi/Saccharomyces_cerevisiae.gene_info.gz\"\n",
    "NCBI_MOUSE = \"ftp://ftp.ncbi.nih.gov/gene/DATA/GENE_INFO/Mammalia/Mus_musculus.gene_info.gz\"\n",
    "NCBI_FLY = \"ftp://ftp.ncbi.nih.gov/gene/DATA/GENE_INFO/Invertebrates/Drosophila_melanogaster.gene_info.gz\"\n",
    "\n",
    "# Uniprot ID Mapping\n",
    "UNIPROT_HUMAN = \"ftp://ftp.uniprot.org/pub/databases/uniprot/current_release/knowledgebase/idmapping/by_organism/HUMAN_9606_idmapping_selected.tab.gz\"\n",
    "UNIPROT_MOUSE = \"ftp://ftp.uniprot.org/pub/databases/uniprot/current_release/knowledgebase/idmapping/by_organism/MOUSE_10090_idmapping_selected.tab.gz\"\n",
    "UNIPROT_YEAST = \"ftp://ftp.uniprot.org/pub/databases/uniprot/current_release/knowledgebase/idmapping/by_organism/YEAST_559292_idmapping_selected.tab.gz\"\n",
    "UNIPROT_FLY = \"ftp://ftp.uniprot.org/pub/databases/uniprot/current_release/knowledgebase/idmapping/by_organism/DROME_7227_idmapping_selected.tab.gz\""
   ]
  },
  {
   "cell_type": "code",
   "execution_count": null,
   "metadata": {},
   "outputs": [],
   "source": [
    "# Base ID Mapping Table from Uniprot\n",
    "human1 = pd.read_csv('./HUMAN_9606_idmapping.dat.txt', sep=\"\\t\", names=[\"UniProtKB-AC\", \"ID_type\", \"ID\"])"
   ]
  },
  {
   "cell_type": "code",
   "execution_count": null,
   "metadata": {},
   "outputs": [],
   "source": [
    "id_types = pd.unique(human1[\"ID_type\"])\n",
    "\n",
    "types = pd.DataFrame(id_types)\n",
    "types.columns = [\"ID_TYPE\"]\n",
    "\n",
    "types = types.sort_values(\"ID_TYPE\")\n",
    "types.head()"
   ]
  },
  {
   "cell_type": "code",
   "execution_count": null,
   "metadata": {},
   "outputs": [],
   "source": [
    "# Column header of the base table\n",
    "idmapping_selected_columns = [\n",
    "    'UniProtKB-AC',\n",
    "    'UniProtKB-ID',\n",
    "    'GeneID',\n",
    "    'RefSeq',\n",
    "    'GI',\n",
    "    'PDB',\n",
    "    'GO',\n",
    "    'UniRef100',\n",
    "    'UniRef90',\n",
    "    'UniRef50',\n",
    "    'UniParc',\n",
    "    'PIR',\n",
    "    'NCBI-taxon',\n",
    "    'MIM',\n",
    "    'UniGene',\n",
    "    'PubMed',\n",
    "    'EMBL',\n",
    "    'EMBL-CDS',\n",
    "    'Ensembl',\n",
    "    'Ensembl_TRS',\n",
    "    'Ensembl_PRO',\n",
    "    'Additional PubMed']\n",
    "\n",
    "human2 = pd.read_csv('./HUMAN_9606_idmapping_selected.tab.txt', \n",
    "                     sep=\"\\t\", names=idmapping_selected_columns, low_memory=False)"
   ]
  },
  {
   "cell_type": "code",
   "execution_count": null,
   "metadata": {},
   "outputs": [],
   "source": [
    "human2.head()"
   ]
  },
  {
   "cell_type": "code",
   "execution_count": null,
   "metadata": {},
   "outputs": [],
   "source": [
    "column_names = [\"tax_id\", \"GeneID\", \"Symbol\", \"LocusTag\", \"Synonyms\", \"dbXrefs\", \"chromosome\", \"map_location\",\n",
    "                \"description\", \"type_of_gene\", \"Symbol_from_nomenclature_authority\", \"Full_name_from_nomenclature_authority\",\n",
    "                \"Nomenclature_status\", \"Other_designations\", \"Modification_date\"]\n",
    "ncbi_gene_info = pd.read_csv('./Homo_sapiens.gene_info.txt', sep='\\t', low_memory=False, \n",
    "                             names=column_names, comment='#')"
   ]
  },
  {
   "cell_type": "code",
   "execution_count": null,
   "metadata": {},
   "outputs": [],
   "source": [
    "ncbi_gene_info.head()"
   ]
  },
  {
   "cell_type": "code",
   "execution_count": null,
   "metadata": {},
   "outputs": [],
   "source": [
    "ncbi_subset = ncbi_gene_info[[\"GeneID\", \"Symbol\", \"Full_name_from_nomenclature_authority\"]].astype(str)\n",
    "ncbi_subset.head(20)"
   ]
  },
  {
   "cell_type": "code",
   "execution_count": null,
   "metadata": {},
   "outputs": [],
   "source": [
    "merged = pd.merge(human2, ncbi_subset , left_on=\"GeneID\", right_on=\"GeneID\", how=\"outer\")"
   ]
  },
  {
   "cell_type": "code",
   "execution_count": null,
   "metadata": {},
   "outputs": [],
   "source": [
    "merged.head()"
   ]
  },
  {
   "cell_type": "code",
   "execution_count": null,
   "metadata": {},
   "outputs": [],
   "source": [
    "print(merged.shape)\n",
    "\n",
    "list(merged.columns.values)"
   ]
  },
  {
   "cell_type": "code",
   "execution_count": null,
   "metadata": {},
   "outputs": [],
   "source": [
    "# Drop unnecessary columns\n",
    "df_final = merged.drop('Additional PubMed', 1)\n",
    "df_final = df_final.drop('NCBI-taxon', 1)\n",
    "df_final = df_final.drop('PubMed', 1)"
   ]
  },
  {
   "cell_type": "code",
   "execution_count": null,
   "metadata": {},
   "outputs": [],
   "source": [
    "df_final.head()"
   ]
  },
  {
   "cell_type": "code",
   "execution_count": null,
   "metadata": {},
   "outputs": [],
   "source": [
    "df_final.to_csv('./idmapping.tsv', sep='\\t', index=False)"
   ]
  }
 ],
 "metadata": {
  "kernelspec": {
   "display_name": "Python 3",
   "language": "python",
   "name": "python3"
  },
  "language_info": {
   "codemirror_mode": {
    "name": "ipython",
    "version": 3.0
   },
   "file_extension": ".py",
   "mimetype": "text/x-python",
   "name": "python",
   "nbconvert_exporter": "python",
   "pygments_lexer": "ipython3",
   "version": "3.5.1"
  }
 },
 "nbformat": 4,
 "nbformat_minor": 0
}